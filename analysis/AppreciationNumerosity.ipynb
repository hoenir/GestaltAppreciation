{
 "cells": [
  {
   "cell_type": "markdown",
   "metadata": {},
   "source": [
    "# Analysis Gestalt appreciation & numerosity estimation experiment\n",
    "\n"
   ]
  },
  {
   "cell_type": "markdown",
   "metadata": {},
   "source": [
    "Replication & extension of experiment 1 in: \n",
    "\n",
    "Topolinski, S., Erle, T. M., & Reber, R. (2015). Necker’s smile: Immediate affective consequences of early perceptual processes. Cognition, 140, 1–13.\n",
    "\n",
    "* All errorbars are **95% CIs**    "
   ]
  },
  {
   "cell_type": "code",
   "execution_count": 197,
   "metadata": {
    "collapsed": false
   },
   "outputs": [
    {
     "name": "stdout",
     "output_type": "stream",
     "text": [
      "Populating the interactive namespace from numpy and matplotlib\n"
     ]
    },
    {
     "name": "stderr",
     "output_type": "stream",
     "text": [
      "WARNING: pylab import has clobbered these variables: ['entropy']\n",
      "`%matplotlib` prevents importing * from pylab and numpy\n"
     ]
    }
   ],
   "source": [
    "from statsmodels.stats.power import tt_solve_power, FTestPower\n",
    "import pandas as pd\n",
    "from pandas import DataFrame\n",
    "from psychopy import data, core, gui, misc\n",
    "import numpy as np\n",
    "import seaborn as sns\n",
    "from fuzzywuzzy import fuzz\n",
    "#from ggplot import *\n",
    "from scipy import stats\n",
    "import matplotlib as mpl\n",
    "mpl.use('pdf')\n",
    "import statsmodels.formula.api as smf\n",
    "import statsmodels.api as sm\n",
    "\n",
    "from matplotlib import rcParams\n",
    "rcParams['font.family'] = 'ubuntu'\n",
    "sns.set(style=\"whitegrid\", color_codes=True)\n",
    "sns.set_context(\"talk\")\n",
    "\n",
    "from pivottablejs import pivot_ui\n",
    "%pylab inline"
   ]
  },
  {
   "cell_type": "markdown",
   "metadata": {
    "collapsed": false
   },
   "source": [
    "## Importing data"
   ]
  },
  {
   "cell_type": "code",
   "execution_count": 2,
   "metadata": {
    "collapsed": false
   },
   "outputs": [
    {
     "name": "stdout",
     "output_type": "stream",
     "text": [
      "/home/sander/Dropbox/exp/GestaltAppreciation/data/19201_Gestalt_exp1_2016_Apr_21_1208.csv\n",
      "/home/sander/Dropbox/exp/GestaltAppreciation/data/15928_Gestalt_exp1_2016_May_03_1106.csv\n",
      "/home/sander/Dropbox/exp/GestaltAppreciation/data/17959_Gestalt_exp1_2016_May_02_1508.csv\n",
      "/home/sander/Dropbox/exp/GestaltAppreciation/data/11755_Gestalt_exp1_2016_Apr_21_1606.csv\n",
      "/home/sander/Dropbox/exp/GestaltAppreciation/data/21511_Gestalt_exp1_2016_May_03_1405.csv\n",
      "/home/sander/Dropbox/exp/GestaltAppreciation/data/20803_Gestalt_exp1_2016_Apr_28_1404.csv\n",
      "/home/sander/Dropbox/exp/GestaltAppreciation/data/23125_Gestalt_exp1_2016_May_04_1404.csv\n",
      "/home/sander/Dropbox/exp/GestaltAppreciation/data/20404_Gestalt_exp1_2016_May_02_1605.csv\n",
      "/home/sander/Dropbox/exp/GestaltAppreciation/data/22339_Gestalt_exp1_2016_Apr_15_0910.csv\n",
      "/home/sander/Dropbox/exp/GestaltAppreciation/data/22567_Gestalt_exp1_2016_May_02_1406.csv\n",
      "/home/sander/Dropbox/exp/GestaltAppreciation/data/22246_Gestalt_exp1_2016_Apr_21_0913.csv\n",
      "/home/sander/Dropbox/exp/GestaltAppreciation/data/21700_Gestalt_exp1_2016_Apr_27_1506.csv\n",
      "/home/sander/Dropbox/exp/GestaltAppreciation/data/23143_Gestalt_exp1_2016_May_03_1309.csv\n",
      "/home/sander/Dropbox/exp/GestaltAppreciation/data/18445_Gestalt_exp1_2016_Apr_21_1005.csv\n",
      "/home/sander/Dropbox/exp/GestaltAppreciation/data/13201_Gestalt_exp1_2016_Apr_18_1709.csv\n",
      "/home/sander/Dropbox/exp/GestaltAppreciation/data/20467_Gestalt_exp1_2016_Apr_28_1503.csv\n",
      "/home/sander/Dropbox/exp/GestaltAppreciation/data/18913_Gestalt_exp1_2016_Apr_18_1405.csv\n",
      "/home/sander/Dropbox/exp/GestaltAppreciation/data/20650_Gestalt_exp1_2016_Apr_18_1604.csv\n",
      "/home/sander/Dropbox/exp/GestaltAppreciation/data/20353_Gestalt_exp1_2016_Apr_27_1412.csv\n",
      "/home/sander/Dropbox/exp/GestaltAppreciation/data/19873_Gestalt_exp1_2016_Apr_21_1103.csv\n",
      "/home/sander/Dropbox/exp/GestaltAppreciation/data/23068_Gestalt_exp1_2016_Apr_25_1714.csv\n",
      "/home/sander/Dropbox/exp/GestaltAppreciation/data/11707_Gestalt_exp1_2016_Apr_15_1205.csv\n",
      "/home/sander/Dropbox/exp/GestaltAppreciation/data/18019_Gestalt_exp1_2016_Apr_25_1505.csv\n",
      "/home/sander/Dropbox/exp/GestaltAppreciation/data/21064_Gestalt_exp1_2016_Apr_21_1508.csv\n",
      "/home/sander/Dropbox/exp/GestaltAppreciation/data/21661_Gestalt_exp1_2016_Apr_15_1104.csv\n",
      "/home/sander/Dropbox/exp/GestaltAppreciation/data/22681_Gestalt_exp1_2016_Apr_15_1316.csv\n",
      "/home/sander/Dropbox/exp/GestaltAppreciation/data/22819_Gestalt_exp1_2016_Apr_18_1505.csv\n",
      "/home/sander/Dropbox/exp/GestaltAppreciation/data/16891_Gestalt_exp1_2016_Apr_15_1507.csv\n",
      "/home/sander/Dropbox/exp/GestaltAppreciation/data/21436_Gestalt_exp1_2016_Apr_25_1410.csv\n",
      "/home/sander/Dropbox/exp/GestaltAppreciation/data/20755_Gestalt_exp1_2016_May_03_1507.csv\n",
      "/home/sander/Dropbox/exp/GestaltAppreciation/data/16522_Gestalt_exp1_2016_Apr_15_1406.csv\n",
      "/home/sander/Dropbox/exp/GestaltAppreciation/data/20395_Gestalt_exp1_2016_Apr_25_1609.csv\n",
      "/home/sander/Dropbox/exp/GestaltAppreciation/data/20959_Gestalt_exp1_2016_Apr_28_1007.csv\n",
      "/home/sander/Dropbox/exp/GestaltAppreciation/data/21625_Gestalt_exp1_2016_May_03_0911.csv\n",
      "/home/sander/Dropbox/exp/GestaltAppreciation/data/23086_Gestalt_exp1_2016_Apr_28_1203.csv\n",
      "/home/sander/Dropbox/exp/GestaltAppreciation/data/9010_Gestalt_exp1_2016_May_03_1203.csv\n",
      "/home/sander/Dropbox/exp/GestaltAppreciation/data/21127_Gestalt_exp1_2016_Apr_28_0910.csv\n",
      "/home/sander/Dropbox/exp/GestaltAppreciation/data/P4_Gestalt_exp1_2016_mrt_24_1605.csv\n",
      "/home/sander/Dropbox/exp/GestaltAppreciation/data/P1_Gestalt_exp1_2016_mrt_24_1432.csv\n",
      "/home/sander/Dropbox/exp/GestaltAppreciation/data/P3_Gestalt_exp1_2016_mrt_24_1533.csv\n",
      "/home/sander/Dropbox/exp/GestaltAppreciation/data/P2_Gestalt_exp1_2016_mrt_24_1503.csv\n"
     ]
    }
   ],
   "source": [
    "# get data file names\n",
    "files = gui.fileOpenDlg(\"../data\", allowed=\"csv files (*.csv)|*.csv\")\n",
    "\n",
    "dfs = []\n",
    "\n",
    "for filename in files:\n",
    "    \n",
    "    print(filename)\n",
    "    df = pd.read_table(filename, sep=\",\") #only Appreciation trials 85\n",
    "   \n",
    "    dfs.append(df)\n",
    "    \n",
    "    \n",
    "df = pd.concat(dfs, ignore_index=True)    "
   ]
  },
  {
   "cell_type": "code",
   "execution_count": 153,
   "metadata": {
    "collapsed": false
   },
   "outputs": [
    {
     "name": "stdout",
     "output_type": "stream",
     "text": [
      "total len: 3403\n",
      "total len: 3116\n"
     ]
    }
   ],
   "source": [
    "dfApp = df[pd.notnull(df.images)]       \n",
    "dfNum = df[pd.notnull(df.imgA)]\n",
    "\n",
    "print 'total len:', len(dfApp)\n",
    "print 'total len:', len(dfNum)\n",
    "\n",
    "#df.to_csv('partialsetApril2016' + '.csv', sep='\\t')\n",
    "\n",
    "\n",
    "#add var for img\n",
    "dfApp.loc[:,\"img\"]= dfApp.images.str.extract(\"(\\d+)\")\n",
    "dfNum.loc[:,\"img\"]= dfNum.imgA.str.extract(\"(\\d+)\")"
   ]
  },
  {
   "cell_type": "markdown",
   "metadata": {},
   "source": [
    "# Appreciation experiment\n",
    "\n",
    "\n",
    "Relevant vars:\n",
    "\n",
    "* condition\n",
    "* rating.response\n",
    "* rating.rt"
   ]
  },
  {
   "cell_type": "code",
   "execution_count": 154,
   "metadata": {
    "collapsed": false
   },
   "outputs": [
    {
     "name": "stdout",
     "output_type": "stream",
     "text": [
      "Index([u'Unnamed: 26', u'Unnamed: 27', u'condition', u'date', u'expName',\n",
      "       u'frameRate', u'images', u'imgA', u'imgB', u'key_resp_2.keys',\n",
      "       u'key_resp_2.rt', u'numLoop.thisIndex', u'numLoop.thisN',\n",
      "       u'numLoop.thisRepN', u'numLoop.thisTrialN', u'numResp.Alocation',\n",
      "       u'numResp.corr', u'numResp.keys', u'numResp.rt', u'participant',\n",
      "       u'rating', u'rating.rt', u'response.keys', u'response.rt', u'session',\n",
      "       u'trials.thisIndex', u'trials.thisN', u'trials.thisRepN',\n",
      "       u'trials.thisTrialN', u'img'],\n",
      "      dtype='object')\n"
     ]
    }
   ],
   "source": [
    "dfApp = dfApp.rename(columns={'rating.response': 'rating'})\n",
    "print dfApp.columns\n",
    "\n"
   ]
  },
  {
   "cell_type": "markdown",
   "metadata": {},
   "source": [
    "### Does gestaltness influence appreciation? "
   ]
  },
  {
   "cell_type": "code",
   "execution_count": 184,
   "metadata": {
    "collapsed": false
   },
   "outputs": [
    {
     "data": {
      "image/png": "[encoded data removed]",
      "text/plain": [
       "<matplotlib.figure.Figure at 0x7fe2c2161c50>"
      ]
     },
     "metadata": {},
     "output_type": "display_data"
    }
   ],
   "source": [
    "#sns.violinplot(x=\"condition\", y=\"rating.response\", data=dfApp);\n",
    "sns.pointplot(x=\"condition\", y=\"rating\", unit=\"participant\", data=dfApp);\n"
   ]
  },
  {
   "cell_type": "code",
   "execution_count": 156,
   "metadata": {
    "collapsed": false
   },
   "outputs": [
    {
     "name": "stdout",
     "output_type": "stream",
     "text": [
      "                 Generalized Linear Model Regression Results                  \n",
      "==============================================================================\n",
      "Dep. Variable:                 rating   No. Observations:                 3403\n",
      "Model:                            GLM   Df Residuals:                     3400\n",
      "Model Family:                Gaussian   Df Model:                            2\n",
      "Link Function:               identity   Scale:                   2.83243073836\n",
      "Method:                          IRLS   Log-Likelihood:                -6598.6\n",
      "Date:                 do, 26 mei 2016   Deviance:                       9630.3\n",
      "Time:                        17:11:01   Pearson chi2:                 9.63e+03\n",
      "No. Iterations:                     4                                         \n",
      "==========================================================================================\n",
      "                             coef    std err          z      P>|z|      [95.0% Conf. Int.]\n",
      "------------------------------------------------------------------------------------------\n",
      "Intercept                  4.7707      0.048     99.416      0.000         4.677     4.865\n",
      "condition[T.inverted]     -0.0242      0.073     -0.332      0.740        -0.167     0.119\n",
      "condition[T.scrambled]    -0.0837      0.068     -1.234      0.217        -0.217     0.049\n",
      "==========================================================================================\n"
     ]
    }
   ],
   "source": [
    "# GLM test\n",
    "\n",
    "model = smf.glm(formula=\"rating ~ condition\", data=dfApp)\n",
    "#model = smf.ols(formula=\"rating ~ condition\", data=dfApp)\n",
    "\n",
    "results = model.fit()\n",
    "print(results.summary())"
   ]
  },
  {
   "cell_type": "markdown",
   "metadata": {},
   "source": [
    "## Interim conclusion: \n",
    "\n",
    "* scrambling effect is nonsignificant but in expected direction (less liked).\n",
    "* Nonsignificance may be a power problem (original study had more participants)\n",
    "* Inversion does not seem to matter, meaning it probably is not an (implicitly processed) \"familiar Gestalt\" effect.\n",
    "\n",
    "* TODO: run another batch of about 40 participants?"
   ]
  },
  {
   "cell_type": "markdown",
   "metadata": {},
   "source": [
    "## Correlation between individual difference scores (appreciation of Gestalt minus scrambled patterns) and PNS scores"
   ]
  },
  {
   "cell_type": "code",
   "execution_count": 190,
   "metadata": {
    "collapsed": false
   },
   "outputs": [
    {
     "name": "stdout",
     "output_type": "stream",
     "text": [
      "41\n"
     ]
    },
    {
     "data": {
      "text/html": [
       "<div>\n",
       "<table border=\"1\" class=\"dataframe\">\n",
       "  <thead>\n",
       "    <tr style=\"text-align: right;\">\n",
       "      <th></th>\n",
       "      <th>participant</th>\n",
       "      <th>level_1</th>\n",
       "      <th>gestaltm</th>\n",
       "      <th>scrambledm</th>\n",
       "      <th>diff</th>\n",
       "      <th>Geslacht</th>\n",
       "      <th>Geboortejaar</th>\n",
       "      <th>Totaalscore</th>\n",
       "    </tr>\n",
       "  </thead>\n",
       "  <tbody>\n",
       "    <tr>\n",
       "      <th>0</th>\n",
       "      <td>9010</td>\n",
       "      <td>0</td>\n",
       "      <td>5.000000</td>\n",
       "      <td>4.966667</td>\n",
       "      <td>0.033333</td>\n",
       "      <td>vrouw</td>\n",
       "      <td>1992</td>\n",
       "      <td>59</td>\n",
       "    </tr>\n",
       "    <tr>\n",
       "      <th>1</th>\n",
       "      <td>11707</td>\n",
       "      <td>0</td>\n",
       "      <td>5.300000</td>\n",
       "      <td>4.966667</td>\n",
       "      <td>0.333333</td>\n",
       "      <td>vrouw</td>\n",
       "      <td>1995</td>\n",
       "      <td>49</td>\n",
       "    </tr>\n",
       "    <tr>\n",
       "      <th>2</th>\n",
       "      <td>11755</td>\n",
       "      <td>0</td>\n",
       "      <td>5.466667</td>\n",
       "      <td>5.866667</td>\n",
       "      <td>-0.400000</td>\n",
       "      <td>vrouw</td>\n",
       "      <td>1995</td>\n",
       "      <td>46</td>\n",
       "    </tr>\n",
       "    <tr>\n",
       "      <th>3</th>\n",
       "      <td>13201</td>\n",
       "      <td>0</td>\n",
       "      <td>4.933333</td>\n",
       "      <td>4.500000</td>\n",
       "      <td>0.433333</td>\n",
       "      <td>vrouw</td>\n",
       "      <td>1994</td>\n",
       "      <td>34</td>\n",
       "    </tr>\n",
       "    <tr>\n",
       "      <th>4</th>\n",
       "      <td>15928</td>\n",
       "      <td>0</td>\n",
       "      <td>5.066667</td>\n",
       "      <td>4.966667</td>\n",
       "      <td>0.100000</td>\n",
       "      <td>vrouw</td>\n",
       "      <td>1996</td>\n",
       "      <td>42</td>\n",
       "    </tr>\n",
       "  </tbody>\n",
       "</table>\n",
       "</div>"
      ],
      "text/plain": [
       "  participant  level_1  gestaltm  scrambledm      diff Geslacht  Geboortejaar  \\\n",
       "0        9010        0  5.000000    4.966667  0.033333    vrouw          1992   \n",
       "1       11707        0  5.300000    4.966667  0.333333    vrouw          1995   \n",
       "2       11755        0  5.466667    5.866667 -0.400000    vrouw          1995   \n",
       "3       13201        0  4.933333    4.500000  0.433333    vrouw          1994   \n",
       "4       15928        0  5.066667    4.966667  0.100000    vrouw          1996   \n",
       "\n",
       "   Totaalscore  \n",
       "0           59  \n",
       "1           49  \n",
       "2           46  \n",
       "3           34  \n",
       "4           42  "
      ]
     },
     "execution_count": 190,
     "metadata": {},
     "output_type": "execute_result"
    }
   ],
   "source": [
    "# compute diff score to correlate with PNS score\n",
    "\n",
    "print(len(dfApp['participant'].unique()))\n",
    "\n",
    "def diffScore(df):\n",
    "    \n",
    "    gestaltm =  df[df.condition=='gestalt'].rating.mean()\n",
    "    scrambledm = df[df.condition=='scrambled'].rating.mean()\n",
    "    \n",
    "    diff= gestaltm - scrambledm\n",
    "    \n",
    "    #df['id'].iloc[0]\n",
    "    dfout = pd.DataFrame(data=[(gestaltm, scrambledm, diff)], columns=['gestaltm', 'scrambledm', 'diff'])\n",
    "    \n",
    "    return dfout\n",
    "\n",
    "dfdiff = dfApp.groupby('participant').apply(diffScore)\n",
    "dfdiff = dfdiff.reset_index()\n",
    "\n",
    "\n",
    "# add PNS scores\n",
    "dfPNS = pd.read_table(\"ScoringPNS.csv\", sep=\",\") \n",
    "dfPNS = dfPNS.iloc[4:,:]\n",
    "dfPNS[\"participant\"] = pd.to_numeric(dfPNS[\"participant\"])\n",
    "dfmerged= pd.merge(dfdiff, dfPNS, how='outer', on='participant')\n",
    "dfmerged.head()\n"
   ]
  },
  {
   "cell_type": "markdown",
   "metadata": {},
   "source": [
    "### Does higher PNS (personal need for structure) imply higher relative appreciation of Gestalt vs scrambled patterns?"
   ]
  },
  {
   "cell_type": "code",
   "execution_count": 191,
   "metadata": {
    "collapsed": false
   },
   "outputs": [
    {
     "data": {
      "text/plain": [
       "0.083739837398373998"
      ]
     },
     "execution_count": 191,
     "metadata": {},
     "output_type": "execute_result"
    },
    {
     "data": {
      "image/png": "[encoded data removed]",
      "text/plain": [
       "<matplotlib.figure.Figure at 0x7fe2d5a3cbd0>"
      ]
     },
     "metadata": {},
     "output_type": "display_data"
    }
   ],
   "source": [
    "sns.jointplot(x=\"Totaalscore\", y=\"diff\", data=dfmerged, kind=\"reg\");\n",
    "dfmerged[\"diff\"].mean()"
   ]
  },
  {
   "cell_type": "markdown",
   "metadata": {},
   "source": [
    "## Interim conclusion\n",
    "\n",
    "* Nonsign correlation\n",
    "* Trend in direction opposite to expected: higher PNS -> less liking of Gestalt vs scrambled.\n",
    "* This outcome is what would be expected if the \"Gestalt-effect\" is not actually caused by coherent Gestalt, but by more basic image feature not related to PNS?"
   ]
  },
  {
   "cell_type": "markdown",
   "metadata": {},
   "source": [
    "# Numerosity experiment\n",
    "\n",
    "* 2-IFC: which has the most dots (first or second image)\n",
    "* Note that all comparison images have exactly the same numbers of dots in reality\n",
    "* Hence any deviation from .50 is caused by the difference in configuration\n",
    "\n",
    "Relevant vars:\n",
    "\n",
    "* acc: percentage choice for first image\n",
    "* rt\n",
    "* condition"
   ]
  },
  {
   "cell_type": "code",
   "execution_count": 185,
   "metadata": {
    "collapsed": false
   },
   "outputs": [],
   "source": [
    "#print dfNum.columns\n",
    "#print dfNum.dtypes\n",
    "dfNum = dfNum.rename(columns={'numResp.corr': 'acc','numResp.rt': 'rt', 'numResp.Alocation': 'Alocation' })\n"
   ]
  },
  {
   "cell_type": "code",
   "execution_count": 15,
   "metadata": {
    "collapsed": false
   },
   "outputs": [],
   "source": [
    "dfNum.columns\n",
    "#dfNum[\"condition\"].loc[dfNum.condition== \"Inverted-scrambled\"]= \"Scrambled-Inverted\""
   ]
  },
  {
   "cell_type": "markdown",
   "metadata": {},
   "source": [
    "### Does Gestaltness (and inversion) influence numerosity estimation?"
   ]
  },
  {
   "cell_type": "code",
   "execution_count": 143,
   "metadata": {
    "collapsed": false
   },
   "outputs": [
    {
     "data": {
      "image/png": "[encoded data removed]",
      "text/plain": [
       "<matplotlib.figure.Figure at 0x7fe2c7b3f0d0>"
      ]
     },
     "metadata": {},
     "output_type": "display_data"
    }
   ],
   "source": [
    "sns.pointplot(x=\"condition\", y=\"acc\",unit=\"participant\", data=dfNum);\n",
    "sns.axlabel(\"Condition\", \"Percentage higher\")"
   ]
  },
  {
   "cell_type": "code",
   "execution_count": 30,
   "metadata": {
    "collapsed": false
   },
   "outputs": [
    {
     "name": "stdout",
     "output_type": "stream",
     "text": [
      "                 Generalized Linear Model Regression Results                  \n",
      "==============================================================================\n",
      "Dep. Variable:                    acc   No. Observations:                 3116\n",
      "Model:                            GLM   Df Residuals:                     3113\n",
      "Model Family:                Binomial   Df Model:                            2\n",
      "Link Function:                  logit   Scale:                             1.0\n",
      "Method:                          IRLS   Log-Likelihood:                -2142.8\n",
      "Date:                 do, 26 mei 2016   Deviance:                       4285.5\n",
      "Time:                        01:47:51   Pearson chi2:                 3.12e+03\n",
      "No. Iterations:                     6                                         \n",
      "===================================================================================================\n",
      "                                      coef    std err          z      P>|z|      [95.0% Conf. Int.]\n",
      "---------------------------------------------------------------------------------------------------\n",
      "Intercept                          -0.2848      0.058     -4.945      0.000        -0.398    -0.172\n",
      "condition[T.Inverted-Gestalt]       0.1893      0.087      2.176      0.030         0.019     0.360\n",
      "condition[T.Inverted-scrambled]     0.1083      0.087      1.243      0.214        -0.062     0.279\n",
      "===================================================================================================\n"
     ]
    }
   ],
   "source": [
    "model = smf.glm(formula=\"acc ~ condition\", data=dfNum,  family=sm.families.Binomial())\n",
    "\n",
    "results = model.fit()\n",
    "print(results.summary())"
   ]
  },
  {
   "cell_type": "code",
   "execution_count": 22,
   "metadata": {
    "collapsed": false
   },
   "outputs": [
    {
     "data": {
      "text/html": [
       "<div>\n",
       "<table border=\"1\" class=\"dataframe\">\n",
       "  <thead>\n",
       "    <tr style=\"text-align: right;\">\n",
       "      <th></th>\n",
       "      <th>Unnamed: 26</th>\n",
       "      <th>Unnamed: 27</th>\n",
       "      <th>condition</th>\n",
       "      <th>date</th>\n",
       "      <th>expName</th>\n",
       "      <th>frameRate</th>\n",
       "      <th>images</th>\n",
       "      <th>imgA</th>\n",
       "      <th>imgB</th>\n",
       "      <th>key_resp_2.keys</th>\n",
       "      <th>...</th>\n",
       "      <th>participant</th>\n",
       "      <th>rating.response</th>\n",
       "      <th>rating.rt</th>\n",
       "      <th>response.keys</th>\n",
       "      <th>response.rt</th>\n",
       "      <th>session</th>\n",
       "      <th>trials.thisIndex</th>\n",
       "      <th>trials.thisN</th>\n",
       "      <th>trials.thisRepN</th>\n",
       "      <th>trials.thisTrialN</th>\n",
       "    </tr>\n",
       "  </thead>\n",
       "  <tbody>\n",
       "    <tr>\n",
       "      <th>85</th>\n",
       "      <td>NaN</td>\n",
       "      <td>NaN</td>\n",
       "      <td>Gestalt-scrambled</td>\n",
       "      <td>2016_Apr_21_1208</td>\n",
       "      <td>Gestalt_exp1</td>\n",
       "      <td>60.250783</td>\n",
       "      <td>NaN</td>\n",
       "      <td>images/k18.bmp</td>\n",
       "      <td>images/i18.bmp</td>\n",
       "      <td>NaN</td>\n",
       "      <td>...</td>\n",
       "      <td>19201</td>\n",
       "      <td>NaN</td>\n",
       "      <td>NaN</td>\n",
       "      <td>NaN</td>\n",
       "      <td>NaN</td>\n",
       "      <td>1</td>\n",
       "      <td>NaN</td>\n",
       "      <td>NaN</td>\n",
       "      <td>NaN</td>\n",
       "      <td>NaN</td>\n",
       "    </tr>\n",
       "    <tr>\n",
       "      <th>86</th>\n",
       "      <td>NaN</td>\n",
       "      <td>NaN</td>\n",
       "      <td>Inverted-Gestalt</td>\n",
       "      <td>2016_Apr_21_1208</td>\n",
       "      <td>Gestalt_exp1</td>\n",
       "      <td>60.250783</td>\n",
       "      <td>NaN</td>\n",
       "      <td>images/INVk03.bmp</td>\n",
       "      <td>images/k02.bmp</td>\n",
       "      <td>NaN</td>\n",
       "      <td>...</td>\n",
       "      <td>19201</td>\n",
       "      <td>NaN</td>\n",
       "      <td>NaN</td>\n",
       "      <td>NaN</td>\n",
       "      <td>NaN</td>\n",
       "      <td>1</td>\n",
       "      <td>NaN</td>\n",
       "      <td>NaN</td>\n",
       "      <td>NaN</td>\n",
       "      <td>NaN</td>\n",
       "    </tr>\n",
       "    <tr>\n",
       "      <th>87</th>\n",
       "      <td>NaN</td>\n",
       "      <td>NaN</td>\n",
       "      <td>Gestalt-scrambled</td>\n",
       "      <td>2016_Apr_21_1208</td>\n",
       "      <td>Gestalt_exp1</td>\n",
       "      <td>60.250783</td>\n",
       "      <td>NaN</td>\n",
       "      <td>images/k05.bmp</td>\n",
       "      <td>images/i05.bmp</td>\n",
       "      <td>NaN</td>\n",
       "      <td>...</td>\n",
       "      <td>19201</td>\n",
       "      <td>NaN</td>\n",
       "      <td>NaN</td>\n",
       "      <td>NaN</td>\n",
       "      <td>NaN</td>\n",
       "      <td>1</td>\n",
       "      <td>NaN</td>\n",
       "      <td>NaN</td>\n",
       "      <td>NaN</td>\n",
       "      <td>NaN</td>\n",
       "    </tr>\n",
       "    <tr>\n",
       "      <th>88</th>\n",
       "      <td>NaN</td>\n",
       "      <td>NaN</td>\n",
       "      <td>Gestalt-scrambled</td>\n",
       "      <td>2016_Apr_21_1208</td>\n",
       "      <td>Gestalt_exp1</td>\n",
       "      <td>60.250783</td>\n",
       "      <td>NaN</td>\n",
       "      <td>images/k22.bmp</td>\n",
       "      <td>images/i22.bmp</td>\n",
       "      <td>NaN</td>\n",
       "      <td>...</td>\n",
       "      <td>19201</td>\n",
       "      <td>NaN</td>\n",
       "      <td>NaN</td>\n",
       "      <td>NaN</td>\n",
       "      <td>NaN</td>\n",
       "      <td>1</td>\n",
       "      <td>NaN</td>\n",
       "      <td>NaN</td>\n",
       "      <td>NaN</td>\n",
       "      <td>NaN</td>\n",
       "    </tr>\n",
       "    <tr>\n",
       "      <th>89</th>\n",
       "      <td>NaN</td>\n",
       "      <td>NaN</td>\n",
       "      <td>Inverted-scrambled</td>\n",
       "      <td>2016_Apr_21_1208</td>\n",
       "      <td>Gestalt_exp1</td>\n",
       "      <td>60.250783</td>\n",
       "      <td>NaN</td>\n",
       "      <td>images/INVk03.bmp</td>\n",
       "      <td>images/i02.bmp</td>\n",
       "      <td>NaN</td>\n",
       "      <td>...</td>\n",
       "      <td>19201</td>\n",
       "      <td>NaN</td>\n",
       "      <td>NaN</td>\n",
       "      <td>NaN</td>\n",
       "      <td>NaN</td>\n",
       "      <td>1</td>\n",
       "      <td>NaN</td>\n",
       "      <td>NaN</td>\n",
       "      <td>NaN</td>\n",
       "      <td>NaN</td>\n",
       "    </tr>\n",
       "  </tbody>\n",
       "</table>\n",
       "<p>5 rows × 29 columns</p>\n",
       "</div>"
      ],
      "text/plain": [
       "    Unnamed: 26  Unnamed: 27           condition              date  \\\n",
       "85          NaN          NaN   Gestalt-scrambled  2016_Apr_21_1208   \n",
       "86          NaN          NaN    Inverted-Gestalt  2016_Apr_21_1208   \n",
       "87          NaN          NaN   Gestalt-scrambled  2016_Apr_21_1208   \n",
       "88          NaN          NaN   Gestalt-scrambled  2016_Apr_21_1208   \n",
       "89          NaN          NaN  Inverted-scrambled  2016_Apr_21_1208   \n",
       "\n",
       "         expName  frameRate images               imgA            imgB  \\\n",
       "85  Gestalt_exp1  60.250783    NaN     images/k18.bmp  images/i18.bmp   \n",
       "86  Gestalt_exp1  60.250783    NaN  images/INVk03.bmp  images/k02.bmp   \n",
       "87  Gestalt_exp1  60.250783    NaN     images/k05.bmp  images/i05.bmp   \n",
       "88  Gestalt_exp1  60.250783    NaN     images/k22.bmp  images/i22.bmp   \n",
       "89  Gestalt_exp1  60.250783    NaN  images/INVk03.bmp  images/i02.bmp   \n",
       "\n",
       "   key_resp_2.keys        ...         participant  rating.response  rating.rt  \\\n",
       "85             NaN        ...               19201              NaN        NaN   \n",
       "86             NaN        ...               19201              NaN        NaN   \n",
       "87             NaN        ...               19201              NaN        NaN   \n",
       "88             NaN        ...               19201              NaN        NaN   \n",
       "89             NaN        ...               19201              NaN        NaN   \n",
       "\n",
       "    response.keys  response.rt session  trials.thisIndex trials.thisN  \\\n",
       "85            NaN          NaN       1               NaN          NaN   \n",
       "86            NaN          NaN       1               NaN          NaN   \n",
       "87            NaN          NaN       1               NaN          NaN   \n",
       "88            NaN          NaN       1               NaN          NaN   \n",
       "89            NaN          NaN       1               NaN          NaN   \n",
       "\n",
       "    trials.thisRepN trials.thisTrialN  \n",
       "85              NaN               NaN  \n",
       "86              NaN               NaN  \n",
       "87              NaN               NaN  \n",
       "88              NaN               NaN  \n",
       "89              NaN               NaN  \n",
       "\n",
       "[5 rows x 29 columns]"
      ]
     },
     "execution_count": 22,
     "metadata": {},
     "output_type": "execute_result"
    }
   ],
   "source": [
    "\n"
   ]
  },
  {
   "cell_type": "markdown",
   "metadata": {},
   "source": [
    "# Checking for low-level/structural measures of the test images"
   ]
  },
  {
   "cell_type": "code",
   "execution_count": 182,
   "metadata": {
    "collapsed": false
   },
   "outputs": [],
   "source": [
    "# prerequisites\n",
    "\n",
    "import os, re\n",
    "import matplotlib.pyplot as plt\n",
    "from skimage.data import data_dir\n",
    "from skimage.util import img_as_ubyte\n",
    "from skimage.morphology import skeletonize, convex_hull_image, disk\n",
    "from skimage import io\n",
    "from skimage.measure import label, regionprops\n",
    "from skimage.filters.rank import entropy\n",
    "\n",
    "\n",
    "\n",
    "def plot_comparison(original, filtered, filter_name):\n",
    "\n",
    "    fig, (ax1, ax2) = plt.subplots(ncols=2, figsize=(8, 4), sharex=True,\n",
    "                                   sharey=True)\n",
    "    ax1.imshow(original, cmap=plt.cm.gray)\n",
    "    ax1.set_title('original')\n",
    "    ax1.axis('off')\n",
    "    ax1.set_adjustable('box-forced')\n",
    "    ax2.imshow(filtered, cmap=plt.cm.gray)\n",
    "    ax2.set_title(filter_name)\n",
    "    ax2.axis('off')\n",
    "    ax2.set_adjustable('box-forced')\n"
   ]
  },
  {
   "cell_type": "markdown",
   "metadata": {},
   "source": [
    "## Clustering measure: convex hull area\n",
    "\n",
    "* [Convex hull docs](http://scikit-image.org/docs/dev/auto_examples/xx_applications/plot_morphology.html#convex-hull): putting an elastic band around all elements to form the smallest possible convex polygon\n",
    "* Intuitively the area depends on how much the points are spread out.\n",
    "* One possible measure of clustering/compactness"
   ]
  },
  {
   "cell_type": "code",
   "execution_count": 194,
   "metadata": {
    "collapsed": false
   },
   "outputs": [],
   "source": [
    "\n",
    "# get data file names\n",
    "files = gui.fileOpenDlg(\"../images\", allowed=\"bmp files (*.bmp)|*.bmp\")\n",
    "\n",
    "d = []\n",
    "\n",
    "for filename in files:\n",
    "    \n",
    "    #print(filename)\n",
    "    stim = io.imread(filename, as_grey=True)\n",
    "    stim = img_as_ubyte(io.imread(filename, as_grey=True))\n",
    "    #fig, ax = plt.subplots()\n",
    "    #ax.imshow(stim, cmap=plt.cm.gray)\n",
    "    chull = convex_hull_image(stim == 0)\n",
    "    #plot_comparison(stim, chull, 'convex hull')\n",
    "    label_img = label(chull)\n",
    "    regions_img = regionprops(label_img)\n",
    "    region = regions_img[0]\n",
    "\n",
    "    hull= float(region.convex_area)/(chull.shape[0]*chull.shape[1])\n",
    "    #print \"percentage pixels of convex hull image: \", hull\n",
    "    \n",
    "    d.append({'images': filename.split(\"GestaltAppreciation/\")[1] ,'hull': hull})\n",
    "\n",
    "#print d                 \n",
    "stims = pd.DataFrame(d)\n"
   ]
  },
  {
   "cell_type": "code",
   "execution_count": 195,
   "metadata": {
    "collapsed": false
   },
   "outputs": [],
   "source": [
    "dfmerged= pd.merge(dfApp, stims, how='outer', on='images')\n"
   ]
  },
  {
   "cell_type": "markdown",
   "metadata": {},
   "source": [
    "### How is convex hull area distributed? (over images)"
   ]
  },
  {
   "cell_type": "code",
   "execution_count": 165,
   "metadata": {
    "collapsed": false
   },
   "outputs": [
    {
     "data": {
      "image/png": "[encoded data removed]",
      "text/plain": [
       "<matplotlib.figure.Figure at 0x7fe2fc453290>"
      ]
     },
     "metadata": {},
     "output_type": "display_data"
    }
   ],
   "source": [
    "sns.distplot(dfmerged.hull, bins=15, rug=True);\n",
    "sns.axlabel(\"Convex hull area\", \"Frequency\")\n"
   ]
  },
  {
   "cell_type": "markdown",
   "metadata": {},
   "source": [
    "### Does convex hull area differ across conditions? "
   ]
  },
  {
   "cell_type": "code",
   "execution_count": 198,
   "metadata": {
    "collapsed": false
   },
   "outputs": [
    {
     "data": {
      "image/png": "[encoded data removed]",
      "text/plain": [
       "<matplotlib.figure.Figure at 0x7fe2fc39d550>"
      ]
     },
     "metadata": {},
     "output_type": "display_data"
    }
   ],
   "source": [
    "sns.pointplot(x=\"condition\", y=\"hull\", data=dfmerged, linestyles=[\"-\"]);\n",
    "sns.axlabel(\"Condition\", \"Average convex hull area\")"
   ]
  },
  {
   "cell_type": "code",
   "execution_count": 199,
   "metadata": {
    "collapsed": false
   },
   "outputs": [
    {
     "name": "stdout",
     "output_type": "stream",
     "text": [
      "                 Generalized Linear Model Regression Results                  \n",
      "==============================================================================\n",
      "Dep. Variable:                   hull   No. Observations:                 3403\n",
      "Model:                            GLM   Df Residuals:                     3400\n",
      "Model Family:                Gaussian   Df Model:                            2\n",
      "Link Function:               identity   Scale:                 0.0214845062235\n",
      "Method:                          IRLS   Log-Likelihood:                 1707.3\n",
      "Date:                 vr, 27 mei 2016   Deviance:                       73.047\n",
      "Time:                        00:58:21   Pearson chi2:                     73.0\n",
      "No. Iterations:                     4                                         \n",
      "==========================================================================================\n",
      "                             coef    std err          z      P>|z|      [95.0% Conf. Int.]\n",
      "------------------------------------------------------------------------------------------\n",
      "Intercept                  0.4126      0.004     98.735      0.000         0.404     0.421\n",
      "condition[T.inverted]      0.0073      0.006      1.145      0.252        -0.005     0.020\n",
      "condition[T.scrambled]     0.0867      0.006     14.669      0.000         0.075     0.098\n",
      "==========================================================================================\n"
     ]
    }
   ],
   "source": [
    "# GLM test\n",
    "\n",
    "model = smf.glm(formula=\"hull ~ condition\", data=dfmerged)\n",
    "#model = smf.ols(formula=\"rating ~ hull\", data=dfmerged)\n",
    "\n",
    "results = model.fit()\n",
    "print(results.summary())"
   ]
  },
  {
   "cell_type": "markdown",
   "metadata": {},
   "source": [
    "### Interim conclusion\n",
    "\n",
    "* As expected, convex hull area is significantly higher in the scrambled condition (compared to Gestalt or inverted)\n",
    "* Inversion does not matter (obviously)"
   ]
  },
  {
   "cell_type": "markdown",
   "metadata": {},
   "source": [
    "### Are ratings dependent on convex hull area, in the different conditions?"
   ]
  },
  {
   "cell_type": "code",
   "execution_count": 151,
   "metadata": {
    "collapsed": false
   },
   "outputs": [
    {
     "data": {
      "image/png": "[encoded data removed]",
      "text/plain": [
       "<matplotlib.figure.Figure at 0x7fe2fd59a7d0>"
      ]
     },
     "metadata": {},
     "output_type": "display_data"
    }
   ],
   "source": [
    "sns.lmplot(x=\"rating\", y=\"hull\", hue=\"condition\", data=dfmerged, x_estimator=np.mean, palette=\"Set1\");\n",
    "sns.axlabel(\"Rating\", \"Convex hull area\")\n",
    "sns.set_style(\"whitegrid\",{\"axes.grid\": False})"
   ]
  },
  {
   "cell_type": "code",
   "execution_count": 201,
   "metadata": {
    "collapsed": false,
    "scrolled": true
   },
   "outputs": [
    {
     "name": "stdout",
     "output_type": "stream",
     "text": [
      "                 Generalized Linear Model Regression Results                  \n",
      "==============================================================================\n",
      "Dep. Variable:                 rating   No. Observations:                 3403\n",
      "Model:                            GLM   Df Residuals:                     3397\n",
      "Model Family:                Gaussian   Df Model:                            5\n",
      "Link Function:               identity   Scale:                   2.82427229135\n",
      "Method:                          IRLS   Log-Likelihood:                -6592.2\n",
      "Date:                 vr, 27 mei 2016   Deviance:                       9594.1\n",
      "Time:                        01:08:24   Pearson chi2:                 9.59e+03\n",
      "No. Iterations:                     4                                         \n",
      "===============================================================================================\n",
      "                                  coef    std err          z      P>|z|      [95.0% Conf. Int.]\n",
      "-----------------------------------------------------------------------------------------------\n",
      "Intercept                       5.1433      0.138     37.255      0.000         4.873     5.414\n",
      "condition[T.inverted]          -0.0990      0.215     -0.461      0.645        -0.519     0.322\n",
      "condition[T.scrambled]         -0.6150      0.226     -2.717      0.007        -1.059    -0.171\n",
      "hull                           -0.9028      0.314     -2.877      0.004        -1.518    -0.288\n",
      "condition[T.inverted]:hull      0.1937      0.484      0.400      0.689        -0.755     1.143\n",
      "condition[T.scrambled]:hull     1.2206      0.467      2.613      0.009         0.305     2.136\n",
      "===============================================================================================\n"
     ]
    }
   ],
   "source": [
    "# GLM test\n",
    "\n",
    "model = smf.glm(formula=\"rating ~ condition * hull\", data=dfmerged)\n",
    "#model = smf.ols(formula=\"rating ~ hull\", data=dfmerged)\n",
    "\n",
    "results = model.fit()\n",
    "print(results.summary())"
   ]
  },
  {
   "cell_type": "markdown",
   "metadata": {},
   "source": [
    "### Interim conclusion: \n",
    "\n",
    "* If we add hull area to the model (and interaction with condition) for DV rating:\n",
    "* Hull significantly influences ratings\n",
    "* Interestingly scrambling effect also becomes significant here\n",
    "* Interaction scramblingxhull is also significant. As can be seen in the graph, this is because within the scrambling condition, hull does not seem to influence ratings much. This is only the case for the inverted and the Gestalt condition, specifically, both show a (similar) negative correlation.\n",
    "* Together this seems to indicate that ratings are determined by low-level structural differences rather than high-level Gestalt or coherence.\n",
    "* TODO: compare images on a simple density measure\n"
   ]
  }
 ],
 "metadata": {
  "kernelspec": {
   "display_name": "Python 2",
   "language": "python",
   "name": "python2"
  },
  "language_info": {
   "codemirror_mode": {
    "name": "ipython",
    "version": 2
   },
   "file_extension": ".py",
   "mimetype": "text/x-python",
   "name": "python",
   "nbconvert_exporter": "python",
   "pygments_lexer": "ipython2",
   "version": "2.7.11+"
  }
 },
 "nbformat": 4,
 "nbformat_minor": 0
}
